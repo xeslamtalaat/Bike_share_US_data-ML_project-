{
 "cells": [
  {
   "cell_type": "markdown",
   "id": "dc06ed0a",
   "metadata": {
    "papermill": {
     "duration": 0.011548,
     "end_time": "2022-08-10T11:40:15.453048",
     "exception": false,
     "start_time": "2022-08-10T11:40:15.441500",
     "status": "completed"
    },
    "tags": []
   },
   "source": [
    "## Supervised Learning\n",
    "## Project: Finding Donors for *CharityML*\n",
    "### By: Eslam Talaat\n"
   ]
  },
  {
   "cell_type": "markdown",
   "id": "1c0b7f88",
   "metadata": {
    "papermill": {
     "duration": 0.009614,
     "end_time": "2022-08-10T11:40:15.472768",
     "exception": false,
     "start_time": "2022-08-10T11:40:15.463154",
     "status": "completed"
    },
    "tags": []
   },
   "source": [
    "## Getting Started\n",
    "\n",
    "In this project, you will employ several supervised algorithms of your choice to accurately model individuals' income using data collected from the 1994 U.S. Census. You will then choose the best candidate algorithm from preliminary results and further optimize this algorithm to best model the data. Your goal with this implementation is to construct a model that accurately predicts whether an individual makes more than $50,000. This sort of task can arise in a non-profit setting, where organizations survive on donations.  Understanding an individual's income can help a non-profit better understand how large of a donation to request, or whether or not they should reach out to begin with.  While it can be difficult to determine an individual's general income bracket directly from public sources, we can (as we will see) infer this value from other publically available features. \n",
    "\n",
    "The dataset for this project originates from the [UCI Machine Learning Repository](https://archive.ics.uci.edu/ml/datasets/Census+Income). The datset was donated by Ron Kohavi and Barry Becker, after being published in the article _\"Scaling Up the Accuracy of Naive-Bayes Classifiers: A Decision-Tree Hybrid\"_. You can find the article by Ron Kohavi [online](https://www.aaai.org/Papers/KDD/1996/KDD96-033.pdf). The data we investigate here consists of small changes to the original dataset, such as removing the `'fnlwgt'` feature and records with missing or ill-formatted entries."
   ]
  },
  {
   "cell_type": "markdown",
   "id": "6e3eb4b6",
   "metadata": {
    "papermill": {
     "duration": 0.009823,
     "end_time": "2022-08-10T11:40:15.492303",
     "exception": false,
     "start_time": "2022-08-10T11:40:15.482480",
     "status": "completed"
    },
    "tags": []
   },
   "source": [
    "----\n",
    "## Exploring the Data\n",
    "Run the code cell below to load necessary Python libraries and load the census data. Note that the last column from this dataset, `'income'`, will be our target label (whether an individual makes more than, or at most, $50,000 annually). All other columns are features about each individual in the census database."
   ]
  },
  {
   "cell_type": "code",
   "execution_count": 1,
   "id": "fc2a3e0c",
   "metadata": {
    "collapsed": true,
    "execution": {
     "iopub.execute_input": "2022-08-10T11:40:15.515046Z",
     "iopub.status.busy": "2022-08-10T11:40:15.514401Z",
     "iopub.status.idle": "2022-08-10T11:40:37.924268Z",
     "shell.execute_reply": "2022-08-10T11:40:37.923133Z"
    },
    "jupyter": {
     "outputs_hidden": true
    },
    "papermill": {
     "duration": 22.424648,
     "end_time": "2022-08-10T11:40:37.927067",
     "exception": false,
     "start_time": "2022-08-10T11:40:15.502419",
     "status": "completed"
    },
    "tags": []
   },
   "outputs": [
    {
     "name": "stdout",
     "output_type": "stream",
     "text": [
      "Collecting vpython\r\n",
      "  Downloading vpython-7.6.4-cp37-cp37m-manylinux_2_5_x86_64.manylinux1_x86_64.manylinux_2_24_x86_64.whl (3.7 MB)\r\n",
      "\u001b[2K     \u001b[90m━━━━━━━━━━━━━━━━━━━━━━━━━━━━━━━━━━━━━━━━\u001b[0m \u001b[32m3.7/3.7 MB\u001b[0m \u001b[31m6.6 MB/s\u001b[0m eta \u001b[36m0:00:00\u001b[0m\r\n",
      "\u001b[?25hCollecting autobahn<27,>=22.6.1\r\n",
      "  Downloading autobahn-22.7.1.tar.gz (476 kB)\r\n",
      "\u001b[2K     \u001b[90m━━━━━━━━━━━━━━━━━━━━━━━━━━━━━━━━━━━━━━\u001b[0m \u001b[32m476.8/476.8 kB\u001b[0m \u001b[31m23.5 MB/s\u001b[0m eta \u001b[36m0:00:00\u001b[0m\r\n",
      "\u001b[?25h  Preparing metadata (setup.py) ... \u001b[?25l-\b \bdone\r\n",
      "\u001b[?25hRequirement already satisfied: jupyter in /opt/conda/lib/python3.7/site-packages (from vpython) (1.0.0)\r\n",
      "Requirement already satisfied: jupyter-server-proxy in /opt/conda/lib/python3.7/site-packages (from vpython) (3.2.1)\r\n",
      "Requirement already satisfied: ipykernel in /opt/conda/lib/python3.7/site-packages (from vpython) (6.15.0)\r\n",
      "Requirement already satisfied: numpy in /opt/conda/lib/python3.7/site-packages (from vpython) (1.21.6)\r\n",
      "Collecting txaio>=21.2.1\r\n",
      "  Downloading txaio-22.2.1-py2.py3-none-any.whl (30 kB)\r\n",
      "Requirement already satisfied: cryptography>=3.4.6 in /opt/conda/lib/python3.7/site-packages (from autobahn<27,>=22.6.1->vpython) (37.0.2)\r\n",
      "Collecting hyperlink>=21.0.0\r\n",
      "  Downloading hyperlink-21.0.0-py2.py3-none-any.whl (74 kB)\r\n",
      "\u001b[2K     \u001b[90m━━━━━━━━━━━━━━━━━━━━━━━━━━━━━━━━━━━━━━━━\u001b[0m \u001b[32m74.6/74.6 kB\u001b[0m \u001b[31m4.6 MB/s\u001b[0m eta \u001b[36m0:00:00\u001b[0m\r\n",
      "\u001b[?25hRequirement already satisfied: setuptools in /opt/conda/lib/python3.7/site-packages (from autobahn<27,>=22.6.1->vpython) (59.8.0)\r\n",
      "Requirement already satisfied: debugpy>=1.0 in /opt/conda/lib/python3.7/site-packages (from ipykernel->vpython) (1.6.0)\r\n",
      "Requirement already satisfied: tornado>=6.1 in /opt/conda/lib/python3.7/site-packages (from ipykernel->vpython) (6.1)\r\n",
      "Requirement already satisfied: packaging in /opt/conda/lib/python3.7/site-packages (from ipykernel->vpython) (21.3)\r\n",
      "Requirement already satisfied: ipython>=7.23.1 in /opt/conda/lib/python3.7/site-packages (from ipykernel->vpython) (7.33.0)\r\n",
      "Requirement already satisfied: nest-asyncio in /opt/conda/lib/python3.7/site-packages (from ipykernel->vpython) (1.5.5)\r\n",
      "Requirement already satisfied: psutil in /opt/conda/lib/python3.7/site-packages (from ipykernel->vpython) (5.9.1)\r\n",
      "Requirement already satisfied: pyzmq>=17 in /opt/conda/lib/python3.7/site-packages (from ipykernel->vpython) (23.2.0)\r\n",
      "Requirement already satisfied: jupyter-client>=6.1.12 in /opt/conda/lib/python3.7/site-packages (from ipykernel->vpython) (7.3.4)\r\n",
      "Requirement already satisfied: traitlets>=5.1.0 in /opt/conda/lib/python3.7/site-packages (from ipykernel->vpython) (5.3.0)\r\n",
      "Requirement already satisfied: matplotlib-inline>=0.1 in /opt/conda/lib/python3.7/site-packages (from ipykernel->vpython) (0.1.3)\r\n",
      "Requirement already satisfied: qtconsole in /opt/conda/lib/python3.7/site-packages (from jupyter->vpython) (5.3.1)\r\n",
      "Requirement already satisfied: notebook in /opt/conda/lib/python3.7/site-packages (from jupyter->vpython) (6.4.12)\r\n",
      "Requirement already satisfied: ipywidgets in /opt/conda/lib/python3.7/site-packages (from jupyter->vpython) (7.7.1)\r\n",
      "Requirement already satisfied: jupyter-console in /opt/conda/lib/python3.7/site-packages (from jupyter->vpython) (6.4.4)\r\n",
      "Requirement already satisfied: nbconvert in /opt/conda/lib/python3.7/site-packages (from jupyter->vpython) (6.4.5)\r\n",
      "Requirement already satisfied: simpervisor>=0.4 in /opt/conda/lib/python3.7/site-packages (from jupyter-server-proxy->vpython) (0.4)\r\n",
      "Requirement already satisfied: jupyter-server>=1.0 in /opt/conda/lib/python3.7/site-packages (from jupyter-server-proxy->vpython) (1.18.0)\r\n",
      "Requirement already satisfied: aiohttp in /opt/conda/lib/python3.7/site-packages (from jupyter-server-proxy->vpython) (3.8.1)\r\n",
      "Requirement already satisfied: cffi>=1.12 in /opt/conda/lib/python3.7/site-packages (from cryptography>=3.4.6->autobahn<27,>=22.6.1->vpython) (1.15.0)\r\n",
      "Requirement already satisfied: idna>=2.5 in /opt/conda/lib/python3.7/site-packages (from hyperlink>=21.0.0->autobahn<27,>=22.6.1->vpython) (3.3)\r\n",
      "Requirement already satisfied: pexpect>4.3 in /opt/conda/lib/python3.7/site-packages (from ipython>=7.23.1->ipykernel->vpython) (4.8.0)\r\n",
      "Requirement already satisfied: backcall in /opt/conda/lib/python3.7/site-packages (from ipython>=7.23.1->ipykernel->vpython) (0.2.0)\r\n",
      "Requirement already satisfied: jedi>=0.16 in /opt/conda/lib/python3.7/site-packages (from ipython>=7.23.1->ipykernel->vpython) (0.18.1)\r\n",
      "Requirement already satisfied: decorator in /opt/conda/lib/python3.7/site-packages (from ipython>=7.23.1->ipykernel->vpython) (5.1.1)\r\n",
      "Requirement already satisfied: pygments in /opt/conda/lib/python3.7/site-packages (from ipython>=7.23.1->ipykernel->vpython) (2.12.0)\r\n",
      "Requirement already satisfied: pickleshare in /opt/conda/lib/python3.7/site-packages (from ipython>=7.23.1->ipykernel->vpython) (0.7.5)\r\n",
      "Requirement already satisfied: prompt-toolkit!=3.0.0,!=3.0.1,<3.1.0,>=2.0.0 in /opt/conda/lib/python3.7/site-packages (from ipython>=7.23.1->ipykernel->vpython) (3.0.30)\r\n",
      "Requirement already satisfied: entrypoints in /opt/conda/lib/python3.7/site-packages (from jupyter-client>=6.1.12->ipykernel->vpython) (0.4)\r\n",
      "Requirement already satisfied: python-dateutil>=2.8.2 in /opt/conda/lib/python3.7/site-packages (from jupyter-client>=6.1.12->ipykernel->vpython) (2.8.2)\r\n",
      "Requirement already satisfied: jupyter-core>=4.9.2 in /opt/conda/lib/python3.7/site-packages (from jupyter-client>=6.1.12->ipykernel->vpython) (4.10.0)\r\n",
      "Requirement already satisfied: terminado>=0.8.3 in /opt/conda/lib/python3.7/site-packages (from jupyter-server>=1.0->jupyter-server-proxy->vpython) (0.15.0)\r\n",
      "Requirement already satisfied: argon2-cffi in /opt/conda/lib/python3.7/site-packages (from jupyter-server>=1.0->jupyter-server-proxy->vpython) (21.3.0)\r\n",
      "Requirement already satisfied: nbformat>=5.2.0 in /opt/conda/lib/python3.7/site-packages (from jupyter-server>=1.0->jupyter-server-proxy->vpython) (5.4.0)\r\n",
      "Requirement already satisfied: websocket-client in /opt/conda/lib/python3.7/site-packages (from jupyter-server>=1.0->jupyter-server-proxy->vpython) (1.3.3)\r\n",
      "Requirement already satisfied: jinja2 in /opt/conda/lib/python3.7/site-packages (from jupyter-server>=1.0->jupyter-server-proxy->vpython) (3.1.2)\r\n",
      "Requirement already satisfied: prometheus-client in /opt/conda/lib/python3.7/site-packages (from jupyter-server>=1.0->jupyter-server-proxy->vpython) (0.14.1)\r\n",
      "Requirement already satisfied: anyio<4,>=3.1.0 in /opt/conda/lib/python3.7/site-packages (from jupyter-server>=1.0->jupyter-server-proxy->vpython) (3.6.1)\r\n",
      "Requirement already satisfied: Send2Trash in /opt/conda/lib/python3.7/site-packages (from jupyter-server>=1.0->jupyter-server-proxy->vpython) (1.8.0)\r\n",
      "Requirement already satisfied: bleach in /opt/conda/lib/python3.7/site-packages (from nbconvert->jupyter->vpython) (5.0.1)\r\n",
      "Requirement already satisfied: MarkupSafe>=2.0 in /opt/conda/lib/python3.7/site-packages (from nbconvert->jupyter->vpython) (2.0.1)\r\n",
      "Requirement already satisfied: pandocfilters>=1.4.1 in /opt/conda/lib/python3.7/site-packages (from nbconvert->jupyter->vpython) (1.5.0)\r\n",
      "Requirement already satisfied: defusedxml in /opt/conda/lib/python3.7/site-packages (from nbconvert->jupyter->vpython) (0.7.1)\r\n",
      "Requirement already satisfied: nbclient<0.6.0,>=0.5.0 in /opt/conda/lib/python3.7/site-packages (from nbconvert->jupyter->vpython) (0.5.13)\r\n",
      "Requirement already satisfied: testpath in /opt/conda/lib/python3.7/site-packages (from nbconvert->jupyter->vpython) (0.6.0)\r\n",
      "Requirement already satisfied: mistune<2,>=0.8.1 in /opt/conda/lib/python3.7/site-packages (from nbconvert->jupyter->vpython) (0.8.4)\r\n",
      "Requirement already satisfied: beautifulsoup4 in /opt/conda/lib/python3.7/site-packages (from nbconvert->jupyter->vpython) (4.11.1)\r\n",
      "Requirement already satisfied: jupyterlab-pygments in /opt/conda/lib/python3.7/site-packages (from nbconvert->jupyter->vpython) (0.2.2)\r\n",
      "Requirement already satisfied: aiosignal>=1.1.2 in /opt/conda/lib/python3.7/site-packages (from aiohttp->jupyter-server-proxy->vpython) (1.2.0)\r\n",
      "Requirement already satisfied: charset-normalizer<3.0,>=2.0 in /opt/conda/lib/python3.7/site-packages (from aiohttp->jupyter-server-proxy->vpython) (2.1.0)\r\n",
      "Requirement already satisfied: yarl<2.0,>=1.0 in /opt/conda/lib/python3.7/site-packages (from aiohttp->jupyter-server-proxy->vpython) (1.7.2)\r\n",
      "Requirement already satisfied: asynctest==0.13.0 in /opt/conda/lib/python3.7/site-packages (from aiohttp->jupyter-server-proxy->vpython) (0.13.0)\r\n",
      "Requirement already satisfied: multidict<7.0,>=4.5 in /opt/conda/lib/python3.7/site-packages (from aiohttp->jupyter-server-proxy->vpython) (6.0.2)\r\n",
      "Requirement already satisfied: typing-extensions>=3.7.4 in /opt/conda/lib/python3.7/site-packages (from aiohttp->jupyter-server-proxy->vpython) (4.1.1)\r\n",
      "Requirement already satisfied: frozenlist>=1.1.1 in /opt/conda/lib/python3.7/site-packages (from aiohttp->jupyter-server-proxy->vpython) (1.3.0)\r\n",
      "Requirement already satisfied: attrs>=17.3.0 in /opt/conda/lib/python3.7/site-packages (from aiohttp->jupyter-server-proxy->vpython) (21.4.0)\r\n",
      "Requirement already satisfied: async-timeout<5.0,>=4.0.0a3 in /opt/conda/lib/python3.7/site-packages (from aiohttp->jupyter-server-proxy->vpython) (4.0.2)\r\n",
      "Requirement already satisfied: jupyterlab-widgets>=1.0.0 in /opt/conda/lib/python3.7/site-packages (from ipywidgets->jupyter->vpython) (1.1.1)\r\n",
      "Requirement already satisfied: widgetsnbextension~=3.6.0 in /opt/conda/lib/python3.7/site-packages (from ipywidgets->jupyter->vpython) (3.6.1)\r\n",
      "Requirement already satisfied: ipython-genutils~=0.2.0 in /opt/conda/lib/python3.7/site-packages (from ipywidgets->jupyter->vpython) (0.2.0)\r\n",
      "Requirement already satisfied: pyparsing!=3.0.5,>=2.0.2 in /opt/conda/lib/python3.7/site-packages (from packaging->ipykernel->vpython) (3.0.9)\r\n",
      "Requirement already satisfied: qtpy>=2.0.1 in /opt/conda/lib/python3.7/site-packages (from qtconsole->jupyter->vpython) (2.1.0)\r\n",
      "Requirement already satisfied: sniffio>=1.1 in /opt/conda/lib/python3.7/site-packages (from anyio<4,>=3.1.0->jupyter-server>=1.0->jupyter-server-proxy->vpython) (1.2.0)\r\n",
      "Requirement already satisfied: pycparser in /opt/conda/lib/python3.7/site-packages (from cffi>=1.12->cryptography>=3.4.6->autobahn<27,>=22.6.1->vpython) (2.21)\r\n",
      "Requirement already satisfied: parso<0.9.0,>=0.8.0 in /opt/conda/lib/python3.7/site-packages (from jedi>=0.16->ipython>=7.23.1->ipykernel->vpython) (0.8.3)\r\n",
      "Requirement already satisfied: fastjsonschema in /opt/conda/lib/python3.7/site-packages (from nbformat>=5.2.0->jupyter-server>=1.0->jupyter-server-proxy->vpython) (2.15.3)\r\n",
      "Requirement already satisfied: jsonschema>=2.6 in /opt/conda/lib/python3.7/site-packages (from nbformat>=5.2.0->jupyter-server>=1.0->jupyter-server-proxy->vpython) (4.6.1)\r\n",
      "Requirement already satisfied: ptyprocess>=0.5 in /opt/conda/lib/python3.7/site-packages (from pexpect>4.3->ipython>=7.23.1->ipykernel->vpython) (0.7.0)\r\n",
      "Requirement already satisfied: wcwidth in /opt/conda/lib/python3.7/site-packages (from prompt-toolkit!=3.0.0,!=3.0.1,<3.1.0,>=2.0.0->ipython>=7.23.1->ipykernel->vpython) (0.2.5)\r\n",
      "Requirement already satisfied: six>=1.5 in /opt/conda/lib/python3.7/site-packages (from python-dateutil>=2.8.2->jupyter-client>=6.1.12->ipykernel->vpython) (1.16.0)\r\n",
      "Requirement already satisfied: argon2-cffi-bindings in /opt/conda/lib/python3.7/site-packages (from argon2-cffi->jupyter-server>=1.0->jupyter-server-proxy->vpython) (21.2.0)\r\n",
      "Requirement already satisfied: soupsieve>1.2 in /opt/conda/lib/python3.7/site-packages (from beautifulsoup4->nbconvert->jupyter->vpython) (2.3.1)\r\n",
      "Requirement already satisfied: webencodings in /opt/conda/lib/python3.7/site-packages (from bleach->nbconvert->jupyter->vpython) (0.5.1)\r\n",
      "Requirement already satisfied: importlib-metadata in /opt/conda/lib/python3.7/site-packages (from jsonschema>=2.6->nbformat>=5.2.0->jupyter-server>=1.0->jupyter-server-proxy->vpython) (4.12.0)\r\n",
      "Requirement already satisfied: pyrsistent!=0.17.0,!=0.17.1,!=0.17.2,>=0.14.0 in /opt/conda/lib/python3.7/site-packages (from jsonschema>=2.6->nbformat>=5.2.0->jupyter-server>=1.0->jupyter-server-proxy->vpython) (0.18.1)\r\n",
      "Requirement already satisfied: importlib-resources>=1.4.0 in /opt/conda/lib/python3.7/site-packages (from jsonschema>=2.6->nbformat>=5.2.0->jupyter-server>=1.0->jupyter-server-proxy->vpython) (5.8.0)\r\n",
      "Requirement already satisfied: zipp>=3.1.0 in /opt/conda/lib/python3.7/site-packages (from importlib-resources>=1.4.0->jsonschema>=2.6->nbformat>=5.2.0->jupyter-server>=1.0->jupyter-server-proxy->vpython) (3.8.0)\r\n",
      "Building wheels for collected packages: autobahn\r\n",
      "  Building wheel for autobahn (setup.py) ... \u001b[?25l-\b \b\\\b \b|\b \b/\b \b-\b \b\\\b \bdone\r\n",
      "\u001b[?25h  Created wheel for autobahn: filename=autobahn-22.7.1-cp37-cp37m-linux_x86_64.whl size=704744 sha256=ec423e4fad0683bb76ff2c0ae0c2f7b02997c5e2bc29bf854069871242833fa5\r\n",
      "  Stored in directory: /root/.cache/pip/wheels/6b/9d/6f/008624ee22352a1fa79e20df5036bfd83be696bd783e2c9ae6\r\n",
      "Successfully built autobahn\r\n",
      "Installing collected packages: txaio, hyperlink, autobahn, vpython\r\n",
      "Successfully installed autobahn-22.7.1 hyperlink-21.0.0 txaio-22.2.1 vpython-7.6.4\r\n",
      "\u001b[33mWARNING: Running pip as the 'root' user can result in broken permissions and conflicting behaviour with the system package manager. It is recommended to use a virtual environment instead: https://pip.pypa.io/warnings/venv\u001b[0m\u001b[33m\r\n",
      "\u001b[0m"
     ]
    }
   ],
   "source": [
    "!pip install vpython"
   ]
  },
  {
   "cell_type": "code",
   "execution_count": 2,
   "id": "f06498ba",
   "metadata": {
    "execution": {
     "iopub.execute_input": "2022-08-10T11:40:37.957156Z",
     "iopub.status.busy": "2022-08-10T11:40:37.956501Z",
     "iopub.status.idle": "2022-08-10T11:40:40.320729Z",
     "shell.execute_reply": "2022-08-10T11:40:40.319666Z"
    },
    "papermill": {
     "duration": 2.381257,
     "end_time": "2022-08-10T11:40:40.323240",
     "exception": false,
     "start_time": "2022-08-10T11:40:37.941983",
     "status": "completed"
    },
    "tags": []
   },
   "outputs": [
    {
     "data": {
      "text/html": [
       "<div id=\"glowscript\" class=\"glowscript\"></div>"
      ],
      "text/plain": [
       "<IPython.core.display.HTML object>"
      ]
     },
     "metadata": {},
     "output_type": "display_data"
    },
    {
     "data": {
      "application/javascript": [
       "if (typeof Jupyter !== \"undefined\") { window.__context = { glowscript_container: $(\"#glowscript\").removeAttr(\"id\")};}else{ element.textContent = ' ';}"
      ],
      "text/plain": [
       "<IPython.core.display.Javascript object>"
      ]
     },
     "metadata": {},
     "output_type": "display_data"
    },
    {
     "data": {
      "text/html": [
       "<div>\n",
       "<style scoped>\n",
       "    .dataframe tbody tr th:only-of-type {\n",
       "        vertical-align: middle;\n",
       "    }\n",
       "\n",
       "    .dataframe tbody tr th {\n",
       "        vertical-align: top;\n",
       "    }\n",
       "\n",
       "    .dataframe thead th {\n",
       "        text-align: right;\n",
       "    }\n",
       "</style>\n",
       "<table border=\"1\" class=\"dataframe\">\n",
       "  <thead>\n",
       "    <tr style=\"text-align: right;\">\n",
       "      <th></th>\n",
       "      <th>age</th>\n",
       "      <th>workclass</th>\n",
       "      <th>education_level</th>\n",
       "      <th>education-num</th>\n",
       "      <th>marital-status</th>\n",
       "      <th>occupation</th>\n",
       "      <th>relationship</th>\n",
       "      <th>race</th>\n",
       "      <th>sex</th>\n",
       "      <th>capital-gain</th>\n",
       "      <th>capital-loss</th>\n",
       "      <th>hours-per-week</th>\n",
       "      <th>native-country</th>\n",
       "      <th>income</th>\n",
       "    </tr>\n",
       "  </thead>\n",
       "  <tbody>\n",
       "    <tr>\n",
       "      <th>0</th>\n",
       "      <td>39</td>\n",
       "      <td>State-gov</td>\n",
       "      <td>Bachelors</td>\n",
       "      <td>13.0</td>\n",
       "      <td>Never-married</td>\n",
       "      <td>Adm-clerical</td>\n",
       "      <td>Not-in-family</td>\n",
       "      <td>White</td>\n",
       "      <td>Male</td>\n",
       "      <td>2174.0</td>\n",
       "      <td>0.0</td>\n",
       "      <td>40.0</td>\n",
       "      <td>United-States</td>\n",
       "      <td>&lt;=50K</td>\n",
       "    </tr>\n",
       "  </tbody>\n",
       "</table>\n",
       "</div>"
      ],
      "text/plain": [
       "   age   workclass education_level  education-num  marital-status  \\\n",
       "0   39   State-gov       Bachelors           13.0   Never-married   \n",
       "\n",
       "      occupation    relationship    race    sex  capital-gain  capital-loss  \\\n",
       "0   Adm-clerical   Not-in-family   White   Male        2174.0           0.0   \n",
       "\n",
       "   hours-per-week  native-country income  \n",
       "0            40.0   United-States  <=50K  "
      ]
     },
     "metadata": {},
     "output_type": "display_data"
    }
   ],
   "source": [
    "# Import libraries necessary for this project\n",
    "import numpy as np\n",
    "import pandas as pd\n",
    "from time import time\n",
    "from IPython.display import display\n",
    "import matplotlib.pyplot as plt\n",
    "import seaborn as sns\n",
    "from sklearn.preprocessing import MinMaxScaler\n",
    "import vpython as vs\n",
    "\n",
    "\n",
    "# Load the Census dataset\n",
    "data = pd.read_csv(\"../input/finding-donors-for-charityml/census.csv\")\n",
    "\n",
    "# Success - Display the first record\n",
    "display(data.head(1))"
   ]
  },
  {
   "cell_type": "markdown",
   "id": "d84f127d",
   "metadata": {
    "papermill": {
     "duration": 0.013469,
     "end_time": "2022-08-10T11:40:40.350632",
     "exception": false,
     "start_time": "2022-08-10T11:40:40.337163",
     "status": "completed"
    },
    "tags": []
   },
   "source": [
    "### Implementation: Data Exploration\n",
    "A cursory investigation of the dataset will determine how many individuals fit into either group, and will tell us about the percentage of these individuals making more than \\$50,000. In the code cell below, you will need to compute the following:\n",
    "- The total number of records, `'n_records'`\n",
    "- The number of individuals making more than \\$50,000 annually, `'n_greater_50k'`.\n",
    "- The number of individuals making at most \\$50,000 annually, `'n_at_most_50k'`.\n",
    "- The percentage of individuals making more than \\$50,000 annually, `'greater_percent'`.\n",
    "\n"
   ]
  },
  {
   "cell_type": "code",
   "execution_count": 3,
   "id": "e4f09a7f",
   "metadata": {
    "execution": {
     "iopub.execute_input": "2022-08-10T11:40:40.380836Z",
     "iopub.status.busy": "2022-08-10T11:40:40.379801Z",
     "iopub.status.idle": "2022-08-10T11:40:40.395537Z",
     "shell.execute_reply": "2022-08-10T11:40:40.394771Z"
    },
    "papermill": {
     "duration": 0.032714,
     "end_time": "2022-08-10T11:40:40.397462",
     "exception": false,
     "start_time": "2022-08-10T11:40:40.364748",
     "status": "completed"
    },
    "tags": []
   },
   "outputs": [
    {
     "data": {
      "text/plain": [
       "array(['<=50K', '>50K'], dtype=object)"
      ]
     },
     "execution_count": 3,
     "metadata": {},
     "output_type": "execute_result"
    }
   ],
   "source": [
    "#Explore the income column content\n",
    "data.income.unique()"
   ]
  },
  {
   "cell_type": "code",
   "execution_count": 4,
   "id": "1f961c57",
   "metadata": {
    "execution": {
     "iopub.execute_input": "2022-08-10T11:40:40.427113Z",
     "iopub.status.busy": "2022-08-10T11:40:40.426416Z",
     "iopub.status.idle": "2022-08-10T11:40:40.443854Z",
     "shell.execute_reply": "2022-08-10T11:40:40.441722Z"
    },
    "papermill": {
     "duration": 0.035802,
     "end_time": "2022-08-10T11:40:40.447034",
     "exception": false,
     "start_time": "2022-08-10T11:40:40.411232",
     "status": "completed"
    },
    "tags": []
   },
   "outputs": [
    {
     "name": "stdout",
     "output_type": "stream",
     "text": [
      "Total number of records: 45222\n",
      "Individuals making more than $50,000: 11208\n",
      "Individuals making at most $50,000: 34014\n",
      "Percentage of individuals making more than $50,000: 24.78%\n"
     ]
    }
   ],
   "source": [
    "#Total number of records\n",
    "n_records = data.shape[0]\n",
    "\n",
    "#Number of records where individual's income is more than $50,000\n",
    "n_greater_50k = (data['income'] == '>50K').sum()\n",
    "\n",
    "#Number of records where individual's income is at most $50,000\n",
    "n_at_most_50k = (data['income'] == '<=50K').sum()\n",
    "\n",
    "#Percentage of individuals whose income is more than $50,000\n",
    "greater_percent = np.round((n_greater_50k/n_records*100),2)\n",
    "\n",
    "# Print the results\n",
    "print(\"Total number of records: {}\".format(n_records))\n",
    "print(\"Individuals making more than $50,000: {}\".format(n_greater_50k))\n",
    "print(\"Individuals making at most $50,000: {}\".format(n_at_most_50k))\n",
    "print(\"Percentage of individuals making more than $50,000: {}%\".format(greater_percent))"
   ]
  },
  {
   "cell_type": "markdown",
   "id": "8e3d22da",
   "metadata": {
    "papermill": {
     "duration": 0.013564,
     "end_time": "2022-08-10T11:40:40.474724",
     "exception": false,
     "start_time": "2022-08-10T11:40:40.461160",
     "status": "completed"
    },
    "tags": []
   },
   "source": [
    "## Featureset Exploration \n",
    "\n",
    "* **age**: continuous. \n",
    "* **workclass**: Private, Self-emp-not-inc, Self-emp-inc, Federal-gov, Local-gov, State-gov, Without-pay, Never-worked. \n",
    "* **education**: Bachelors, Some-college, 11th, HS-grad, Prof-school, Assoc-acdm, Assoc-voc, 9th, 7th-8th, 12th, Masters, 1st-4th, 10th, Doctorate, 5th-6th, Preschool. \n",
    "* **education-num**: continuous. \n",
    "* **marital-status**: Married-civ-spouse, Divorced, Never-married, Separated, Widowed, Married-spouse-absent, Married-AF-spouse. \n",
    "* **occupation**: Tech-support, Craft-repair, Other-service, Sales, Exec-managerial, Prof-specialty, Handlers-cleaners, Machine-op-inspct, Adm-clerical, Farming-fishing, Transport-moving, Priv-house-serv, Protective-serv, Armed-Forces. \n",
    "* **relationship**: Wife, Own-child, Husband, Not-in-family, Other-relative, Unmarried. \n",
    "* **race**: Black, White, Asian-Pac-Islander, Amer-Indian-Eskimo, Other. \n",
    "* **sex**: Female, Male. \n",
    "* **capital-gain**: continuous. \n",
    "* **capital-loss**: continuous. \n",
    "* **hours-per-week**: continuous. \n",
    "* **native-country**: United-States, Cambodia, England, Puerto-Rico, Canada, Germany, Outlying-US(Guam-USVI-etc), India, Japan, Greece, South, China, Cuba, Iran, Honduras, Philippines, Italy, Poland, Jamaica, Vietnam, Mexico, Portugal, Ireland, France, Dominican-Republic, Laos, Ecuador, Taiwan, Haiti, Columbia, Hungary, Guatemala, Nicaragua, Scotland, Thailand, Yugoslavia, El-Salvador, Trinadad&Tobago, Peru, Hong, Holand-Netherlands."
   ]
  },
  {
   "cell_type": "markdown",
   "id": "b4f6398d",
   "metadata": {
    "papermill": {
     "duration": 0.013387,
     "end_time": "2022-08-10T11:40:40.501793",
     "exception": false,
     "start_time": "2022-08-10T11:40:40.488406",
     "status": "completed"
    },
    "tags": []
   },
   "source": [
    "----\n",
    "## Preparing the Data\n",
    "Before data can be used as input for machine learning algorithms, it often must be cleaned, formatted, and restructured. Fortunately, for this dataset, there are no invalid or missing entries we must deal with, however, there are some qualities about certain features that must be adjusted. This preprocessing can help tremendously with the outcome and predictive power of nearly all learning algorithms."
   ]
  },
  {
   "cell_type": "markdown",
   "id": "c9313d07",
   "metadata": {
    "papermill": {
     "duration": 0.013676,
     "end_time": "2022-08-10T11:40:40.529168",
     "exception": false,
     "start_time": "2022-08-10T11:40:40.515492",
     "status": "completed"
    },
    "tags": []
   },
   "source": [
    "### Transforming Skewed Continuous Features\n",
    "A dataset may sometimes contain at least one feature whose values tend to lie near a single number, but will also have a non-trivial number of vastly larger or smaller values than that single number.  Algorithms can be sensitive to such distributions of values and can underperform if the range is not properly normalized.  \n"
   ]
  },
  {
   "cell_type": "code",
   "execution_count": 5,
   "id": "737970d1",
   "metadata": {
    "execution": {
     "iopub.execute_input": "2022-08-10T11:40:40.559403Z",
     "iopub.status.busy": "2022-08-10T11:40:40.558554Z",
     "iopub.status.idle": "2022-08-10T11:40:41.370442Z",
     "shell.execute_reply": "2022-08-10T11:40:41.369345Z"
    },
    "papermill": {
     "duration": 0.829899,
     "end_time": "2022-08-10T11:40:41.373019",
     "exception": false,
     "start_time": "2022-08-10T11:40:40.543120",
     "status": "completed"
    },
    "tags": []
   },
   "outputs": [
    {
     "data": {
      "image/png": "[encoded data removed]",
      "text/plain": [
       "<Figure size 1008x576 with 6 Axes>"
      ]
     },
     "metadata": {
      "needs_background": "light"
     },
     "output_type": "display_data"
    }
   ],
   "source": [
    "# Split the data into features and target label\n",
    "income_raw = data['income']\n",
    "features_raw = data.drop('income', axis = 1)\n",
    "\n",
    "# Visualize skewed continuous features of original data\n",
    "data.hist(figsize=(14,8));"
   ]
  },
  {
   "cell_type": "markdown",
   "id": "2863bc9b",
   "metadata": {
    "papermill": {
     "duration": 0.014273,
     "end_time": "2022-08-10T11:40:41.402389",
     "exception": false,
     "start_time": "2022-08-10T11:40:41.388116",
     "status": "completed"
    },
    "tags": []
   },
   "source": [
    "For highly-skewed feature distributions such as `'capital-gain'` and `'capital-loss'`, it is common practice to apply a logarithmic transformation on the data so that the very large and very small values do not negatively affect the performance of a learning algorithm. Using a logarithmic transformation significantly reduces the range of values caused by outliers. Care must be taken when applying this transformation however: The logarithm of `0` is undefined, so we must translate the values by a small amount above `0` to apply the the logarithm successfully.\n"
   ]
  },
  {
   "cell_type": "code",
   "execution_count": 6,
   "id": "d93c4e8e",
   "metadata": {
    "execution": {
     "iopub.execute_input": "2022-08-10T11:40:41.433515Z",
     "iopub.status.busy": "2022-08-10T11:40:41.432521Z",
     "iopub.status.idle": "2022-08-10T11:40:41.441906Z",
     "shell.execute_reply": "2022-08-10T11:40:41.441165Z"
    },
    "papermill": {
     "duration": 0.0269,
     "end_time": "2022-08-10T11:40:41.443922",
     "exception": false,
     "start_time": "2022-08-10T11:40:41.417022",
     "status": "completed"
    },
    "tags": []
   },
   "outputs": [],
   "source": [
    "# Log-transform the skewed features\n",
    "skewed = ['capital-gain', 'capital-loss']\n",
    "features_log_transformed = pd.DataFrame(data = features_raw)\n",
    "features_log_transformed[skewed] = features_raw[skewed].apply(lambda x: np.log(x + 1))\n"
   ]
  },
  {
   "cell_type": "code",
   "execution_count": 7,
   "id": "f5ab7ad7",
   "metadata": {
    "execution": {
     "iopub.execute_input": "2022-08-10T11:40:41.474203Z",
     "iopub.status.busy": "2022-08-10T11:40:41.473150Z",
     "iopub.status.idle": "2022-08-10T11:40:42.317720Z",
     "shell.execute_reply": "2022-08-10T11:40:42.316609Z"
    },
    "papermill": {
     "duration": 0.862113,
     "end_time": "2022-08-10T11:40:42.320116",
     "exception": false,
     "start_time": "2022-08-10T11:40:41.458003",
     "status": "completed"
    },
    "tags": []
   },
   "outputs": [
    {
     "data": {
      "image/png": "[encoded data removed]",
      "text/plain": [
       "<Figure size 1080x576 with 6 Axes>"
      ]
     },
     "metadata": {
      "needs_background": "light"
     },
     "output_type": "display_data"
    }
   ],
   "source": [
    "# Visualize the new log distribution\n",
    "features_log_transformed.hist(figsize=(15,8));"
   ]
  },
  {
   "cell_type": "markdown",
   "id": "68dffa09",
   "metadata": {
    "papermill": {
     "duration": 0.014768,
     "end_time": "2022-08-10T11:40:42.349964",
     "exception": false,
     "start_time": "2022-08-10T11:40:42.335196",
     "status": "completed"
    },
    "tags": []
   },
   "source": [
    "### Normalizing Numerical Features\n",
    "In addition to performing transformations on features that are highly skewed, it is often good practice to perform some type of scaling on numerical features. Applying a scaling to the data does not change the shape of each feature's distribution (such as `'capital-gain'` or `'capital-loss'` above); however, normalization ensures that each feature is treated equally when applying supervised learners. Note that once scaling is applied, observing the data in its raw form will no longer have the same original meaning, as exampled below.\n"
   ]
  },
  {
   "cell_type": "code",
   "execution_count": 8,
   "id": "f56b4287",
   "metadata": {
    "execution": {
     "iopub.execute_input": "2022-08-10T11:40:42.382433Z",
     "iopub.status.busy": "2022-08-10T11:40:42.381998Z",
     "iopub.status.idle": "2022-08-10T11:40:42.410182Z",
     "shell.execute_reply": "2022-08-10T11:40:42.409070Z"
    },
    "papermill": {
     "duration": 0.047134,
     "end_time": "2022-08-10T11:40:42.412298",
     "exception": false,
     "start_time": "2022-08-10T11:40:42.365164",
     "status": "completed"
    },
    "tags": []
   },
   "outputs": [
    {
     "data": {
      "text/html": [
       "<div>\n",
       "<style scoped>\n",
       "    .dataframe tbody tr th:only-of-type {\n",
       "        vertical-align: middle;\n",
       "    }\n",
       "\n",
       "    .dataframe tbody tr th {\n",
       "        vertical-align: top;\n",
       "    }\n",
       "\n",
       "    .dataframe thead th {\n",
       "        text-align: right;\n",
       "    }\n",
       "</style>\n",
       "<table border=\"1\" class=\"dataframe\">\n",
       "  <thead>\n",
       "    <tr style=\"text-align: right;\">\n",
       "      <th></th>\n",
       "      <th>age</th>\n",
       "      <th>workclass</th>\n",
       "      <th>education_level</th>\n",
       "      <th>education-num</th>\n",
       "      <th>marital-status</th>\n",
       "      <th>occupation</th>\n",
       "      <th>relationship</th>\n",
       "      <th>race</th>\n",
       "      <th>sex</th>\n",
       "      <th>capital-gain</th>\n",
       "      <th>capital-loss</th>\n",
       "      <th>hours-per-week</th>\n",
       "      <th>native-country</th>\n",
       "    </tr>\n",
       "  </thead>\n",
       "  <tbody>\n",
       "    <tr>\n",
       "      <th>0</th>\n",
       "      <td>0.301370</td>\n",
       "      <td>State-gov</td>\n",
       "      <td>Bachelors</td>\n",
       "      <td>0.800000</td>\n",
       "      <td>Never-married</td>\n",
       "      <td>Adm-clerical</td>\n",
       "      <td>Not-in-family</td>\n",
       "      <td>White</td>\n",
       "      <td>Male</td>\n",
       "      <td>0.667492</td>\n",
       "      <td>0.0</td>\n",
       "      <td>0.397959</td>\n",
       "      <td>United-States</td>\n",
       "    </tr>\n",
       "    <tr>\n",
       "      <th>1</th>\n",
       "      <td>0.452055</td>\n",
       "      <td>Self-emp-not-inc</td>\n",
       "      <td>Bachelors</td>\n",
       "      <td>0.800000</td>\n",
       "      <td>Married-civ-spouse</td>\n",
       "      <td>Exec-managerial</td>\n",
       "      <td>Husband</td>\n",
       "      <td>White</td>\n",
       "      <td>Male</td>\n",
       "      <td>0.000000</td>\n",
       "      <td>0.0</td>\n",
       "      <td>0.122449</td>\n",
       "      <td>United-States</td>\n",
       "    </tr>\n",
       "    <tr>\n",
       "      <th>2</th>\n",
       "      <td>0.287671</td>\n",
       "      <td>Private</td>\n",
       "      <td>HS-grad</td>\n",
       "      <td>0.533333</td>\n",
       "      <td>Divorced</td>\n",
       "      <td>Handlers-cleaners</td>\n",
       "      <td>Not-in-family</td>\n",
       "      <td>White</td>\n",
       "      <td>Male</td>\n",
       "      <td>0.000000</td>\n",
       "      <td>0.0</td>\n",
       "      <td>0.397959</td>\n",
       "      <td>United-States</td>\n",
       "    </tr>\n",
       "    <tr>\n",
       "      <th>3</th>\n",
       "      <td>0.493151</td>\n",
       "      <td>Private</td>\n",
       "      <td>11th</td>\n",
       "      <td>0.400000</td>\n",
       "      <td>Married-civ-spouse</td>\n",
       "      <td>Handlers-cleaners</td>\n",
       "      <td>Husband</td>\n",
       "      <td>Black</td>\n",
       "      <td>Male</td>\n",
       "      <td>0.000000</td>\n",
       "      <td>0.0</td>\n",
       "      <td>0.397959</td>\n",
       "      <td>United-States</td>\n",
       "    </tr>\n",
       "    <tr>\n",
       "      <th>4</th>\n",
       "      <td>0.150685</td>\n",
       "      <td>Private</td>\n",
       "      <td>Bachelors</td>\n",
       "      <td>0.800000</td>\n",
       "      <td>Married-civ-spouse</td>\n",
       "      <td>Prof-specialty</td>\n",
       "      <td>Wife</td>\n",
       "      <td>Black</td>\n",
       "      <td>Female</td>\n",
       "      <td>0.000000</td>\n",
       "      <td>0.0</td>\n",
       "      <td>0.397959</td>\n",
       "      <td>Cuba</td>\n",
       "    </tr>\n",
       "  </tbody>\n",
       "</table>\n",
       "</div>"
      ],
      "text/plain": [
       "        age          workclass education_level  education-num  \\\n",
       "0  0.301370          State-gov       Bachelors       0.800000   \n",
       "1  0.452055   Self-emp-not-inc       Bachelors       0.800000   \n",
       "2  0.287671            Private         HS-grad       0.533333   \n",
       "3  0.493151            Private            11th       0.400000   \n",
       "4  0.150685            Private       Bachelors       0.800000   \n",
       "\n",
       "        marital-status          occupation    relationship    race      sex  \\\n",
       "0        Never-married        Adm-clerical   Not-in-family   White     Male   \n",
       "1   Married-civ-spouse     Exec-managerial         Husband   White     Male   \n",
       "2             Divorced   Handlers-cleaners   Not-in-family   White     Male   \n",
       "3   Married-civ-spouse   Handlers-cleaners         Husband   Black     Male   \n",
       "4   Married-civ-spouse      Prof-specialty            Wife   Black   Female   \n",
       "\n",
       "   capital-gain  capital-loss  hours-per-week  native-country  \n",
       "0      0.667492           0.0        0.397959   United-States  \n",
       "1      0.000000           0.0        0.122449   United-States  \n",
       "2      0.000000           0.0        0.397959   United-States  \n",
       "3      0.000000           0.0        0.397959   United-States  \n",
       "4      0.000000           0.0        0.397959            Cuba  "
      ]
     },
     "metadata": {},
     "output_type": "display_data"
    }
   ],
   "source": [
    "# Initialize a scaler, then apply it to the features\n",
    "scaler = MinMaxScaler() \n",
    "numerical = ['age', 'education-num', 'capital-gain', 'capital-loss', 'hours-per-week']\n",
    "\n",
    "features_log_minmax_transform = pd.DataFrame(data = features_log_transformed)\n",
    "features_log_minmax_transform[numerical] = scaler.fit_transform(features_log_transformed[numerical])\n",
    "\n",
    "# Show an example of a record with scaling applied\n",
    "display(features_log_minmax_transform.head(n = 5))"
   ]
  },
  {
   "cell_type": "markdown",
   "id": "99232e8a",
   "metadata": {
    "papermill": {
     "duration": 0.014379,
     "end_time": "2022-08-10T11:40:42.441617",
     "exception": false,
     "start_time": "2022-08-10T11:40:42.427238",
     "status": "completed"
    },
    "tags": []
   },
   "source": [
    "### Data Preprocessing\n",
    "\n",
    "From the table in **Exploring the Data** above, we can see there are several features for each record that are non-numeric. Typically, learning algorithms expect input to be numeric, which requires that non-numeric features be converted. \n"
   ]
  },
  {
   "cell_type": "code",
   "execution_count": 9,
   "id": "3fe8d314",
   "metadata": {
    "execution": {
     "iopub.execute_input": "2022-08-10T11:40:42.472561Z",
     "iopub.status.busy": "2022-08-10T11:40:42.472159Z",
     "iopub.status.idle": "2022-08-10T11:40:42.560362Z",
     "shell.execute_reply": "2022-08-10T11:40:42.559269Z"
    },
    "papermill": {
     "duration": 0.106956,
     "end_time": "2022-08-10T11:40:42.563053",
     "exception": false,
     "start_time": "2022-08-10T11:40:42.456097",
     "status": "completed"
    },
    "scrolled": true,
    "tags": []
   },
   "outputs": [
    {
     "name": "stdout",
     "output_type": "stream",
     "text": [
      "103 total features after one-hot encoding.\n"
     ]
    }
   ],
   "source": [
    "#One-hot encode the 'features_log_minmax_transform' data using pandas.get_dummies()\n",
    "features_final = pd.get_dummies(features_log_minmax_transform)\n",
    "\n",
    "#Encode the 'income_raw' data to numerical values (1 fro above 50k$ and 0 for below 50k$) \n",
    "income_df = pd.get_dummies(income_raw)\n",
    "income = income_df['>50K']\n",
    "\n",
    "# Print the number of features after one-hot encoding\n",
    "encoded = list(features_final.columns)\n",
    "print(\"{} total features after one-hot encoding.\".format(len(encoded)))"
   ]
  },
  {
   "cell_type": "markdown",
   "id": "e4366173",
   "metadata": {
    "papermill": {
     "duration": 0.014958,
     "end_time": "2022-08-10T11:40:42.594065",
     "exception": false,
     "start_time": "2022-08-10T11:40:42.579107",
     "status": "completed"
    },
    "tags": []
   },
   "source": [
    "### Shuffle and Split Data\n",
    "Now all _categorical variables_ have been converted into numerical features, and all numerical features have been normalized. As always, we will now split the data (both features and their labels) into training and test sets. 80% of the data will be used for training and 20% for testing."
   ]
  },
  {
   "cell_type": "code",
   "execution_count": 10,
   "id": "0190f005",
   "metadata": {
    "execution": {
     "iopub.execute_input": "2022-08-10T11:40:42.627741Z",
     "iopub.status.busy": "2022-08-10T11:40:42.627293Z",
     "iopub.status.idle": "2022-08-10T11:40:42.734378Z",
     "shell.execute_reply": "2022-08-10T11:40:42.732747Z"
    },
    "papermill": {
     "duration": 0.127373,
     "end_time": "2022-08-10T11:40:42.737476",
     "exception": false,
     "start_time": "2022-08-10T11:40:42.610103",
     "status": "completed"
    },
    "tags": []
   },
   "outputs": [
    {
     "name": "stdout",
     "output_type": "stream",
     "text": [
      "Training set has 36177 samples.\n",
      "Testing set has 9045 samples.\n"
     ]
    }
   ],
   "source": [
    "# Import train_test_split\n",
    "from sklearn.model_selection  import train_test_split\n",
    "\n",
    "# Split the 'features' and 'income' data into training and testing sets\n",
    "X_train, X_test, y_train, y_test = train_test_split(features_final, \n",
    "                                                    income, \n",
    "                                                    test_size = 0.2, \n",
    "                                                    random_state = 0)\n",
    "\n",
    "# Show the results of the split\n",
    "print(\"Training set has {} samples.\".format(X_train.shape[0]))\n",
    "print(\"Testing set has {} samples.\".format(X_test.shape[0]))"
   ]
  },
  {
   "cell_type": "markdown",
   "id": "0a0b7b43",
   "metadata": {
    "papermill": {
     "duration": 0.015987,
     "end_time": "2022-08-10T11:40:42.770133",
     "exception": false,
     "start_time": "2022-08-10T11:40:42.754146",
     "status": "completed"
    },
    "tags": []
   },
   "source": [
    "## Evaluating Model Performance\n",
    "In this section, we will investigate four different algorithms, and determine which is best at modeling the data. Three of these algorithms will be supervised learners of your choice, and the fourth algorithm is known as a *naive predictor*."
   ]
  },
  {
   "cell_type": "markdown",
   "id": "4e8f765f",
   "metadata": {
    "papermill": {
     "duration": 0.015719,
     "end_time": "2022-08-10T11:40:42.802828",
     "exception": false,
     "start_time": "2022-08-10T11:40:42.787109",
     "status": "completed"
    },
    "tags": []
   },
   "source": [
    "## Create function to evaluate the model performance  "
   ]
  },
  {
   "cell_type": "code",
   "execution_count": 11,
   "id": "5bb17505",
   "metadata": {
    "execution": {
     "iopub.execute_input": "2022-08-10T11:40:42.836429Z",
     "iopub.status.busy": "2022-08-10T11:40:42.836025Z",
     "iopub.status.idle": "2022-08-10T11:40:42.845859Z",
     "shell.execute_reply": "2022-08-10T11:40:42.844775Z"
    },
    "papermill": {
     "duration": 0.029207,
     "end_time": "2022-08-10T11:40:42.848119",
     "exception": false,
     "start_time": "2022-08-10T11:40:42.818912",
     "status": "completed"
    },
    "tags": []
   },
   "outputs": [],
   "source": [
    "from sklearn.metrics import accuracy_score, fbeta_score\n",
    "\n",
    "def train_predict(learner, sample_size, X_train, y_train, X_test, y_test): \n",
    "    results = {} \n",
    "    #Fit the learner to the training data using slicing with 'sample_size' using .fit(training_features[:], training_labels[:])\n",
    "    start = time() \n",
    "    learner = learner.fit(X_train[:sample_size], y_train[:sample_size])\n",
    "    end = time()\n",
    "    \n",
    "    #Calculate the training time\n",
    "    results['train_time'] = end - start\n",
    "        \n",
    "    #Get the predictions on the test set(X_test),\n",
    "    #then get predictions on the first 300 training samples(X_train) using .predict()\n",
    "    start = time() \n",
    "    predictions_test = learner.predict(X_test)\n",
    "    predictions_train = learner.predict(X_train[:300])\n",
    "    end = time()\n",
    "    \n",
    "    #Calculate the total prediction time\n",
    "    results['pred_time'] = end - start\n",
    "            \n",
    "    #Compute accuracy on the first 300 training samples which is y_train[:300]\n",
    "    results['acc_train'] = accuracy_score(y_train[:300],predictions_train)\n",
    "        \n",
    "    #Compute accuracy on test set using accuracy_score()\n",
    "    results['acc_test'] = accuracy_score(y_test, predictions_test)\n",
    "    \n",
    "    #Compute F-score on the the first 300 training samples using fbeta_score()\n",
    "    results['f_train'] = fbeta_score(y_train[:300], predictions_train,  beta=0.5)\n",
    "        \n",
    "    #Compute F-score on the test set which is y_test\n",
    "    results['f_test'] = fbeta_score(y_test, predictions_test,  beta=0.5)\n",
    "       \n",
    "    # Success\n",
    "    print(\"{} trained on {} samples.\".format(learner.__class__.__name__, sample_size))    \n",
    "                                \n",
    "    # Return the results\n",
    "    return results\n",
    "                    "
   ]
  },
  {
   "cell_type": "markdown",
   "id": "93efe0b3",
   "metadata": {
    "papermill": {
     "duration": 0.015168,
     "end_time": "2022-08-10T11:40:42.879122",
     "exception": false,
     "start_time": "2022-08-10T11:40:42.863954",
     "status": "completed"
    },
    "tags": []
   },
   "source": [
    "## 1- Naive Predictor Performace\n"
   ]
  },
  {
   "cell_type": "code",
   "execution_count": 12,
   "id": "0d5f3f9d",
   "metadata": {
    "execution": {
     "iopub.execute_input": "2022-08-10T11:40:42.911482Z",
     "iopub.status.busy": "2022-08-10T11:40:42.911072Z",
     "iopub.status.idle": "2022-08-10T11:40:42.919690Z",
     "shell.execute_reply": "2022-08-10T11:40:42.918554Z"
    },
    "papermill": {
     "duration": 0.027362,
     "end_time": "2022-08-10T11:40:42.921825",
     "exception": false,
     "start_time": "2022-08-10T11:40:42.894463",
     "status": "completed"
    },
    "tags": []
   },
   "outputs": [
    {
     "name": "stdout",
     "output_type": "stream",
     "text": [
      "Naive Predictor: [Accuracy score: 0.2478, F-score: 0.2917]\n"
     ]
    }
   ],
   "source": [
    "TP = np.sum(income)\n",
    "FP = income.count() - TP\n",
    "TN = 0 \n",
    "FN = 0\n",
    "\n",
    "#Calculate accuracy, precision and recall\n",
    "accuracy = (TP + TN)/ (TP + TN + FP + FN)\n",
    "recall = TP / (TP + FN)\n",
    "precision = TP / (TP + FP)\n",
    "\n",
    "#Calculate F-score using the formula above for beta = 0.5 and correct values for precision and recall.\n",
    "beta = 0.5\n",
    "fscore = (1+beta**2)*precision*recall / (beta**2 * precision + recall)\n",
    "\n",
    "# Print the results \n",
    "print(\"Naive Predictor: [Accuracy score: {:.4f}, F-score: {:.4f}]\".format(accuracy, fscore))"
   ]
  },
  {
   "cell_type": "markdown",
   "id": "931252ed",
   "metadata": {
    "papermill": {
     "duration": 0.015923,
     "end_time": "2022-08-10T11:40:42.953377",
     "exception": false,
     "start_time": "2022-08-10T11:40:42.937454",
     "status": "completed"
    },
    "tags": []
   },
   "source": [
    "## 2- Apply supervised learning models"
   ]
  },
  {
   "cell_type": "code",
   "execution_count": 13,
   "id": "3c6a8081",
   "metadata": {
    "execution": {
     "iopub.execute_input": "2022-08-10T11:40:42.986563Z",
     "iopub.status.busy": "2022-08-10T11:40:42.986015Z",
     "iopub.status.idle": "2022-08-10T11:40:48.237960Z",
     "shell.execute_reply": "2022-08-10T11:40:48.236794Z"
    },
    "papermill": {
     "duration": 5.270657,
     "end_time": "2022-08-10T11:40:48.240313",
     "exception": false,
     "start_time": "2022-08-10T11:40:42.969656",
     "status": "completed"
    },
    "tags": []
   },
   "outputs": [
    {
     "name": "stdout",
     "output_type": "stream",
     "text": [
      "AdaBoostClassifier trained on 361 samples.\n",
      "AdaBoostClassifier trained on 3617 samples.\n",
      "AdaBoostClassifier trained on 36177 samples.\n",
      "LogisticRegression trained on 361 samples.\n",
      "LogisticRegression trained on 3617 samples.\n"
     ]
    },
    {
     "name": "stderr",
     "output_type": "stream",
     "text": [
      "/opt/conda/lib/python3.7/site-packages/sklearn/linear_model/_logistic.py:818: ConvergenceWarning: lbfgs failed to converge (status=1):\n",
      "STOP: TOTAL NO. of ITERATIONS REACHED LIMIT.\n",
      "\n",
      "Increase the number of iterations (max_iter) or scale the data as shown in:\n",
      "    https://scikit-learn.org/stable/modules/preprocessing.html\n",
      "Please also refer to the documentation for alternative solver options:\n",
      "    https://scikit-learn.org/stable/modules/linear_model.html#logistic-regression\n",
      "  extra_warning_msg=_LOGISTIC_SOLVER_CONVERGENCE_MSG,\n"
     ]
    },
    {
     "name": "stdout",
     "output_type": "stream",
     "text": [
      "LogisticRegression trained on 36177 samples.\n",
      "GaussianNB trained on 361 samples.\n",
      "GaussianNB trained on 3617 samples.\n",
      "GaussianNB trained on 36177 samples.\n"
     ]
    }
   ],
   "source": [
    "#Import the three supervised learning models from sklearn\n",
    "from sklearn.linear_model import LogisticRegression\n",
    "from sklearn.ensemble import AdaBoostClassifier\n",
    "from sklearn.naive_bayes import GaussianNB\n",
    "\n",
    "\n",
    "#Initialize the three models\n",
    "clf_ada = AdaBoostClassifier(random_state = 42) \n",
    "clf_log = LogisticRegression(random_state = 42)\n",
    "clf_nb = GaussianNB()\n",
    "\n",
    "#Calculate the number of samples for 1%, 10%, and 100% of the training data\n",
    "samples_100 =  len(y_train)\n",
    "samples_10 = int(len(y_train)/10)\n",
    "samples_1 = int(len(y_train)/100)\n",
    "\n",
    "# Collect results on the learners\n",
    "results = {}\n",
    "for clf in [clf_ada, clf_log, clf_nb]:\n",
    "    clf_name = clf.__class__.__name__\n",
    "    results[clf_name] = {}\n",
    "    for i, samples in enumerate([samples_1, samples_10, samples_100]):\n",
    "        results[clf_name][i] = train_predict(clf, samples, X_train, y_train, X_test, y_test)\n"
   ]
  },
  {
   "cell_type": "code",
   "execution_count": 14,
   "id": "6c1bd4d7",
   "metadata": {
    "execution": {
     "iopub.execute_input": "2022-08-10T11:40:48.275442Z",
     "iopub.status.busy": "2022-08-10T11:40:48.274066Z",
     "iopub.status.idle": "2022-08-10T11:40:48.297123Z",
     "shell.execute_reply": "2022-08-10T11:40:48.295896Z"
    },
    "jupyter": {
     "source_hidden": true
    },
    "papermill": {
     "duration": 0.043501,
     "end_time": "2022-08-10T11:40:48.299991",
     "exception": false,
     "start_time": "2022-08-10T11:40:48.256490",
     "status": "completed"
    },
    "tags": []
   },
   "outputs": [],
   "source": [
    "#Creat Formula to Visualize the Mertics\n",
    "def evaluate(results, accuracy, f1):\n",
    "    \"\"\"\n",
    "    Visualization code to display results of various learners.\n",
    "    \n",
    "    inputs:\n",
    "      - learners: a list of supervised learners\n",
    "      - stats: a list of dictionaries of the statistic results from 'train_predict()'\n",
    "      - accuracy: The score for the naive predictor\n",
    "      - f1: The score for the naive predictor\n",
    "    \"\"\"\n",
    "  \n",
    "    # Create figure\n",
    "    fig, ax = plt.subplots(2, 4, figsize = (15,9))\n",
    "\n",
    "    # Constants\n",
    "    bar_width = 0.1\n",
    "    colors = ['#A00000','#00A0A0','#00A000', '#000000', '#F7DC6F', '#BB8FCE', '#EC7063']\n",
    "    \n",
    "    # Super loop to plot four panels of data\n",
    "    for k, learner in enumerate(results.keys()):\n",
    "        for j, metric in enumerate(['train_time', 'acc_train', 'f_train', 'pred_time', 'acc_test', 'f_test']):\n",
    "            for i in np.arange(3):\n",
    "                \n",
    "                # Creative plot code\n",
    "                ax[j//3, j%3].bar(i+k*bar_width, results[learner][i][metric], width = bar_width, color = colors[k])\n",
    "                ax[j//3, j%3].set_xticks([0.45, 1.45, 2.45])\n",
    "                ax[j//3, j%3].set_xticklabels([\"1%\", \"10%\", \"100%\"])\n",
    "                ax[j//3, j%3].set_xlabel(\"Training Set Size\")\n",
    "                ax[j//3, j%3].set_xlim((-0.1, 3.0))\n",
    "    \n",
    "    # Add unique y-labels\n",
    "    ax[0, 0].set_ylabel(\"Time (in seconds)\")\n",
    "    ax[0, 1].set_ylabel(\"Accuracy Score\")\n",
    "    ax[0, 2].set_ylabel(\"F-score\")\n",
    "    ax[1, 0].set_ylabel(\"Time (in seconds)\")\n",
    "    ax[1, 1].set_ylabel(\"Accuracy Score\")\n",
    "    ax[1, 2].set_ylabel(\"F-score\")\n",
    "    \n",
    "    # Add titles\n",
    "    ax[0, 0].set_title(\"Model Training\")\n",
    "    ax[0, 1].set_title(\"Accuracy Score on Training Subset\")\n",
    "    ax[0, 2].set_title(\"F-score on Training Subset\")\n",
    "    ax[1, 0].set_title(\"Model Predicting\")\n",
    "    ax[1, 1].set_title(\"Accuracy Score on Testing Set\")\n",
    "    ax[1, 2].set_title(\"F-score on Testing Set\")\n",
    "    \n",
    "    # Add horizontal lines for naive predictors\n",
    "    ax[0, 1].axhline(y = accuracy, xmin = -0.1, xmax = 3.0, linewidth = 1, color = 'k', linestyle = 'dashed')\n",
    "    ax[1, 1].axhline(y = accuracy, xmin = -0.1, xmax = 3.0, linewidth = 1, color = 'k', linestyle = 'dashed')\n",
    "    ax[0, 2].axhline(y = f1, xmin = -0.1, xmax = 3.0, linewidth = 1, color = 'k', linestyle = 'dashed')\n",
    "    ax[1, 2].axhline(y = f1, xmin = -0.1, xmax = 3.0, linewidth = 1, color = 'k', linestyle = 'dashed')\n",
    "    \n",
    "    # Set y-limits for score panels\n",
    "    ax[0, 1].set_ylim((0, 1))\n",
    "    ax[0, 2].set_ylim((0, 1))\n",
    "    ax[1, 1].set_ylim((0, 1))\n",
    "    ax[1, 2].set_ylim((0, 1))\n",
    "\n",
    "    # Set additional plots invisibles\n",
    "    ax[0, 3].set_visible(False)\n",
    "    ax[1, 3].axis('off')\n",
    "\n",
    "    # Create legend\n",
    "    for i, learner in enumerate(results.keys()):\n",
    "        plt.bar(0, 0, color=colors[i], label=learner)\n",
    "    plt.legend()\n",
    "    \n",
    "    # Aesthetics\n",
    "    plt.suptitle(\"Performance Metrics for Three Supervised Learning Models\", fontsize = 16, y = 1.10)\n",
    "    plt.tight_layout()\n",
    "    plt.show()"
   ]
  },
  {
   "cell_type": "code",
   "execution_count": 15,
   "id": "41c3e548",
   "metadata": {
    "execution": {
     "iopub.execute_input": "2022-08-10T11:40:48.336631Z",
     "iopub.status.busy": "2022-08-10T11:40:48.336162Z",
     "iopub.status.idle": "2022-08-10T11:40:49.208903Z",
     "shell.execute_reply": "2022-08-10T11:40:49.208024Z"
    },
    "papermill": {
     "duration": 0.893707,
     "end_time": "2022-08-10T11:40:49.211132",
     "exception": false,
     "start_time": "2022-08-10T11:40:48.317425",
     "status": "completed"
    },
    "tags": []
   },
   "outputs": [
    {
     "data": {
      "image/png": "[encoded data removed]",
      "text/plain": [
       "<Figure size 1080x648 with 8 Axes>"
      ]
     },
     "metadata": {
      "needs_background": "light"
     },
     "output_type": "display_data"
    }
   ],
   "source": [
    "# Run metrics visualization for the three supervised learning models chosen\n",
    "evaluate(results, accuracy, fscore)\n"
   ]
  },
  {
   "cell_type": "markdown",
   "id": "12423420",
   "metadata": {
    "papermill": {
     "duration": 0.016744,
     "end_time": "2022-08-10T11:40:49.245052",
     "exception": false,
     "start_time": "2022-08-10T11:40:49.228308",
     "status": "completed"
    },
    "tags": []
   },
   "source": [
    "----\n",
    "## Improving Results\n",
    "In this final section, you will choose from the three supervised learning models the *best* model to use on the student data. You will then perform a grid search optimization for the model over the entire training set (`X_train` and `y_train`) by tuning at least one parameter to improve upon the untuned model's F-score. "
   ]
  },
  {
   "cell_type": "markdown",
   "id": "71f8b973",
   "metadata": {
    "papermill": {
     "duration": 0.01651,
     "end_time": "2022-08-10T11:40:49.278913",
     "exception": false,
     "start_time": "2022-08-10T11:40:49.262403",
     "status": "completed"
    },
    "tags": []
   },
   "source": [
    "### Choosing the Best Model\n",
    "\n",
    "* Based on the evaluation you performed earlier, in one to two paragraphs, explain to *CharityML* which of the three models you believe to be most appropriate for the task of identifying individuals that make more than \\$50,000. \n",
    "\n",
    "- I chose the Adaboost Model as he give us the best F-Score and accuracy score on all samples range(1%, 10%, 100%)\n",
    "- Adaboost may be is slower than the two models on training by around 1.5 sec but on prediction this decreased to around 0.65 sec so i believe this variance not significant effect the model performance \n",
    "- Because this dataset good correlations between some of it's features and the target feature income, therefore I do not expect the data to be over noisy. This means the model is suitable for our datase\n"
   ]
  },
  {
   "cell_type": "markdown",
   "id": "2f040598",
   "metadata": {
    "papermill": {
     "duration": 0.016546,
     "end_time": "2022-08-10T11:40:49.312359",
     "exception": false,
     "start_time": "2022-08-10T11:40:49.295813",
     "status": "completed"
    },
    "tags": []
   },
   "source": [
    "### Describing the Model in Layman's Terms\n",
    "\n",
    "* In one to two paragraphs, explain to *CharityML*, in layman's terms, how the final model chosen is supposed to work. Be sure that you are describing the major qualities of the model, such as how the model is trained and how the model makes a prediction. Avoid using advanced mathematical jargon, such as describing equations.\n"
   ]
  },
  {
   "cell_type": "markdown",
   "id": "5ef5f087",
   "metadata": {
    "papermill": {
     "duration": 0.016321,
     "end_time": "2022-08-10T11:40:49.345460",
     "exception": false,
     "start_time": "2022-08-10T11:40:49.329139",
     "status": "completed"
    },
    "tags": []
   },
   "source": [
    "\n",
    "We Choose the Adaboost Model \n",
    "\n",
    "- AdaBoosting is an ensemble learning algorithm which takes multiple learning algorithms (e.g. decision trees) and combines them. The goal is to take an ensemble or group of weak learners and combine them to create a single strong learner.\n",
    "\n",
    "- AdaBoost is simple. The algorithm is relatively straight-forward to program in addition, it's fast! Weak learners are generally simpler than strong learners. Being simpler means they'll likely execute faster.\n",
    "\n",
    "- It's a super elegant way to auto-tune a classifier, since each successive AdaBoost round refines the weights for each of the best learners. All you need to specify is the number of rounds and see the magic of ML AdaClassifier.\n",
    "\n",
    "https://hackerbits.com/data/adaboost-data-mining-algorithm/"
   ]
  },
  {
   "cell_type": "markdown",
   "id": "c1e861ed",
   "metadata": {
    "papermill": {
     "duration": 0.016592,
     "end_time": "2022-08-10T11:40:49.378802",
     "exception": false,
     "start_time": "2022-08-10T11:40:49.362210",
     "status": "completed"
    },
    "tags": []
   },
   "source": [
    "### Implementation: Model Tuning\n"
   ]
  },
  {
   "cell_type": "code",
   "execution_count": 16,
   "id": "175d3390",
   "metadata": {
    "execution": {
     "iopub.execute_input": "2022-08-10T11:40:49.414559Z",
     "iopub.status.busy": "2022-08-10T11:40:49.413784Z",
     "iopub.status.idle": "2022-08-10T11:45:21.515919Z",
     "shell.execute_reply": "2022-08-10T11:45:21.514727Z"
    },
    "papermill": {
     "duration": 272.13925,
     "end_time": "2022-08-10T11:45:21.534942",
     "exception": false,
     "start_time": "2022-08-10T11:40:49.395692",
     "status": "completed"
    },
    "tags": []
   },
   "outputs": [
    {
     "name": "stdout",
     "output_type": "stream",
     "text": [
      "Unoptimized model\n",
      "------\n",
      "Accuracy score on testing data: 0.8576\n",
      "F-score on testing data: 0.7246\n",
      "\n",
      "Optimized Model\n",
      "------\n",
      "Final accuracy score on the testing data: 0.8606\n",
      "Final F-score on the testing data: 0.7316\n"
     ]
    }
   ],
   "source": [
    "# Import 'GridSearchCV' and 'make_scorer'\n",
    "from sklearn.model_selection import GridSearchCV\n",
    "from sklearn.metrics import make_scorer\n",
    "\n",
    "# Initialize the classifier\n",
    "clf = AdaBoostClassifier(random_state = 42)\n",
    "\n",
    "# Create the parameters list you wish to tune, using a dictionary if needed.\n",
    "parameters = {'n_estimators':[10,30,50, 70, 100], 'learning_rate':[0.1,0.3,0.5,0.7,1]}\n",
    "\n",
    "# Make an fbeta_score scoring object using make_scorer()\n",
    "scorer = make_scorer(fbeta_score, beta= 0.5)\n",
    "\n",
    "# Perform grid search on the classifier using 'scorer' as the scoring method using GridSearchCV()\n",
    "grid_obj = GridSearchCV(clf, parameters, scoring = scorer)\n",
    "\n",
    "# Fit the grid search object to the training data and find the optimal parameters using fit()\n",
    "grid_fit = grid_obj.fit(X_train, y_train)\n",
    "\n",
    "# Get the estimator\n",
    "best_clf = grid_fit.best_estimator_\n",
    "\n",
    "# Make predictions using the unoptimized and model\n",
    "predictions = (clf.fit(X_train, y_train)).predict(X_test)\n",
    "best_predictions = best_clf.predict(X_test)\n",
    "\n",
    "# Report the before-and-afterscores\n",
    "print(\"Unoptimized model\\n------\")\n",
    "print(\"Accuracy score on testing data: {:.4f}\".format(accuracy_score(y_test, predictions)))\n",
    "print(\"F-score on testing data: {:.4f}\".format(fbeta_score(y_test, predictions, beta = 0.5)))\n",
    "print(\"\\nOptimized Model\\n------\")\n",
    "print(\"Final accuracy score on the testing data: {:.4f}\".format(accuracy_score(y_test, best_predictions)))\n",
    "print(\"Final F-score on the testing data: {:.4f}\".format(fbeta_score(y_test, best_predictions, beta = 0.5)))"
   ]
  },
  {
   "cell_type": "markdown",
   "id": "8fa82bda",
   "metadata": {
    "papermill": {
     "duration": 0.016257,
     "end_time": "2022-08-10T11:45:21.568057",
     "exception": false,
     "start_time": "2022-08-10T11:45:21.551800",
     "status": "completed"
    },
    "tags": []
   },
   "source": [
    "### Final Model Evaluation\n"
   ]
  },
  {
   "cell_type": "markdown",
   "id": "d8d30263",
   "metadata": {
    "papermill": {
     "duration": 0.016229,
     "end_time": "2022-08-10T11:45:21.600767",
     "exception": false,
     "start_time": "2022-08-10T11:45:21.584538",
     "status": "completed"
    },
    "tags": []
   },
   "source": [
    "#### Results:\n",
    "\n",
    "|     Metric     | Unoptimized Model | Optimized Model |\n",
    "| :------------: | :---------------: | :-------------: | \n",
    "| Accuracy Score |     85.76%        |   86.06%        |\n",
    "| F-score        |     72.46%        |   73.16%        |\n"
   ]
  },
  {
   "cell_type": "markdown",
   "id": "161de9ec",
   "metadata": {
    "papermill": {
     "duration": 0.016651,
     "end_time": "2022-08-10T11:45:21.633994",
     "exception": false,
     "start_time": "2022-08-10T11:45:21.617343",
     "status": "completed"
    },
    "tags": []
   },
   "source": [
    "----\n",
    "## Feature Importance\n",
    "\n",
    "An important task when performing supervised learning on a dataset like the census data we study here is determining which features provide the most predictive power. By focusing on the relationship between only a few crucial features and the target label we simplify our understanding of the phenomenon, which is most always a useful thing to do. In the case of this project, that means we wish to identify a small number of features that most strongly predict whether an individual makes at most or more than \\$50,000.\n",
    "\n",
    "Choose a scikit-learn classifier (e.g., adaboost, random forests) that has a `feature_importance_` attribute, which is a function that ranks the importance of features according to the chosen classifier.  In the next python cell fit this classifier to training set and use this attribute to determine the top 5 most important features for the census dataset."
   ]
  },
  {
   "cell_type": "markdown",
   "id": "4d4b288b",
   "metadata": {
    "papermill": {
     "duration": 0.016405,
     "end_time": "2022-08-10T11:45:21.667218",
     "exception": false,
     "start_time": "2022-08-10T11:45:21.650813",
     "status": "completed"
    },
    "tags": []
   },
   "source": [
    "### Feature Relevance Observation\n",
    "When **Exploring the Data**, it was shown there are thirteen available features for each individual on record in the census data. Of these thirteen records, which five features do you believe to be most important for prediction, and in what order would you rank them and why?"
   ]
  },
  {
   "cell_type": "markdown",
   "id": "ea498caa",
   "metadata": {
    "papermill": {
     "duration": 0.016369,
     "end_time": "2022-08-10T11:45:21.700250",
     "exception": false,
     "start_time": "2022-08-10T11:45:21.683881",
     "status": "completed"
    },
    "tags": []
   },
   "source": [
    "\n",
    "1- Occupation (the most relevent feature to level of income)\n",
    "\n",
    "2- Age (the 2nd becasue the older the higher salary on same occupation)\n",
    "\n",
    "3- Education number (Eduaction also effect if Master will get more income than BSC)\n",
    "\n",
    "4- Workclass (then Class will effect the annual income level)\n",
    "\n",
    "5- Hours per week (then hrs per week as more hours more money)"
   ]
  },
  {
   "cell_type": "markdown",
   "id": "d659b21f",
   "metadata": {
    "papermill": {
     "duration": 0.016549,
     "end_time": "2022-08-10T11:45:21.733642",
     "exception": false,
     "start_time": "2022-08-10T11:45:21.717093",
     "status": "completed"
    },
    "tags": []
   },
   "source": [
    "### Implementation - Extracting Feature Importance\n",
    "Choose a `scikit-learn` supervised learning algorithm that has a `feature_importance_` attribute availble for it. This attribute is a function that ranks the importance of each feature when making predictions based on the chosen algorithm.\n",
    "\n",
    "In the code cell below, you will need to implement the following:\n",
    " - Import a supervised learning model from sklearn if it is different from the three used earlier.\n",
    " - Train the supervised model on the entire training set.\n",
    " - Extract the feature importances using `'.feature_importances_'`."
   ]
  },
  {
   "cell_type": "code",
   "execution_count": 17,
   "id": "9935217a",
   "metadata": {
    "execution": {
     "iopub.execute_input": "2022-08-10T11:45:21.768559Z",
     "iopub.status.busy": "2022-08-10T11:45:21.768175Z",
     "iopub.status.idle": "2022-08-10T11:45:21.777235Z",
     "shell.execute_reply": "2022-08-10T11:45:21.776071Z"
    },
    "jupyter": {
     "source_hidden": true
    },
    "papermill": {
     "duration": 0.029173,
     "end_time": "2022-08-10T11:45:21.779460",
     "exception": false,
     "start_time": "2022-08-10T11:45:21.750287",
     "status": "completed"
    },
    "tags": []
   },
   "outputs": [],
   "source": [
    "def feature_plot(importances, X_train, y_train):\n",
    "    \n",
    "    # Display the five most important features\n",
    "    indices = np.argsort(importances)[::-1]\n",
    "    columns = X_train.columns.values[indices[:5]]\n",
    "    values = importances[indices][:5]\n",
    "\n",
    "    # Creat the plot\n",
    "    fig = plt.figure(figsize = (9,5))\n",
    "    plt.title(\"Normalized Weights for First Five Most Predictive Features\", fontsize = 16)\n",
    "    plt.bar(np.arange(5), values, width = 0.6, align=\"center\", color = '#00A000', \\\n",
    "          label = \"Feature Weight\")\n",
    "    plt.bar(np.arange(5) - 0.3, np.cumsum(values), width = 0.2, align = \"center\", color = '#00A0A0', \\\n",
    "          label = \"Cumulative Feature Weight\")\n",
    "    plt.xticks(np.arange(5), columns)\n",
    "    plt.xlim((-0.5, 4.5))\n",
    "    plt.ylabel(\"Weight\", fontsize = 12)\n",
    "    plt.xlabel(\"Feature\", fontsize = 12)\n",
    "    \n",
    "    plt.legend(loc = 'upper center')\n",
    "    plt.tight_layout()\n",
    "    plt.show()  \n"
   ]
  },
  {
   "cell_type": "code",
   "execution_count": 18,
   "id": "1fc776a8",
   "metadata": {
    "execution": {
     "iopub.execute_input": "2022-08-10T11:45:21.814859Z",
     "iopub.status.busy": "2022-08-10T11:45:21.814424Z",
     "iopub.status.idle": "2022-08-10T11:45:24.418016Z",
     "shell.execute_reply": "2022-08-10T11:45:24.416646Z"
    },
    "papermill": {
     "duration": 2.624487,
     "end_time": "2022-08-10T11:45:24.420725",
     "exception": false,
     "start_time": "2022-08-10T11:45:21.796238",
     "status": "completed"
    },
    "tags": []
   },
   "outputs": [
    {
     "data": {
      "image/png": "[encoded data removed]",
      "text/plain": [
       "<Figure size 648x360 with 1 Axes>"
      ]
     },
     "metadata": {
      "needs_background": "light"
     },
     "output_type": "display_data"
    }
   ],
   "source": [
    "# Import a supervised learning model that has 'feature_importances_'\n",
    "clf = AdaBoostClassifier(random_state = 42)\n",
    "\n",
    "# Train the supervised model on the training set using .fit(X_train, y_train)\n",
    "model = clf.fit(X_train, y_train)\n",
    "\n",
    "# Extract the feature importances using .feature_importances_ \n",
    "importances = model.feature_importances_\n",
    "\n",
    "# Plot\n",
    "feature_plot(importances, X_train, y_train)"
   ]
  },
  {
   "cell_type": "markdown",
   "id": "513237a0",
   "metadata": {
    "papermill": {
     "duration": 0.017363,
     "end_time": "2022-08-10T11:45:24.455862",
     "exception": false,
     "start_time": "2022-08-10T11:45:24.438499",
     "status": "completed"
    },
    "tags": []
   },
   "source": [
    "### Extracting Feature Importance\n",
    "\n",
    "Observe the visualization created above which displays the five most relevant features for predicting if an individual makes at most or above \\$50,000.  \n"
   ]
  },
  {
   "cell_type": "markdown",
   "id": "45a57ae6",
   "metadata": {
    "papermill": {
     "duration": 0.017047,
     "end_time": "2022-08-10T11:45:24.490391",
     "exception": false,
     "start_time": "2022-08-10T11:45:24.473344",
     "status": "completed"
    },
    "tags": []
   },
   "source": [
    "- I expected 3 features on right way (age, hour per week, and education) \n",
    "- I didn't expect in other two features (capital-lose and capital-gain) \n",
    "- i guess becasue the power of ownership of asset that will return passive income and this will go to higher income level  "
   ]
  },
  {
   "cell_type": "markdown",
   "id": "2dc7f8dd",
   "metadata": {
    "papermill": {
     "duration": 0.016989,
     "end_time": "2022-08-10T11:45:24.524614",
     "exception": false,
     "start_time": "2022-08-10T11:45:24.507625",
     "status": "completed"
    },
    "tags": []
   },
   "source": [
    "### Feature Selection\n",
    "How does a model perform if we only use a subset of all the available features in the data? With less features required to train, the expectation is that training and prediction time is much lower — at the cost of performance metrics. From the visualization above, we see that the top five most important features contribute more than half of the importance of **all** features present in the data. This hints that we can attempt to *reduce the feature space* and simplify the information required for the model to learn. The code cell below will use the same optimized model you found earlier, and train it on the same training set *with only the top five important features*. "
   ]
  },
  {
   "cell_type": "code",
   "execution_count": 19,
   "id": "904a3062",
   "metadata": {
    "execution": {
     "iopub.execute_input": "2022-08-10T11:45:24.561353Z",
     "iopub.status.busy": "2022-08-10T11:45:24.560516Z",
     "iopub.status.idle": "2022-08-10T11:45:26.257757Z",
     "shell.execute_reply": "2022-08-10T11:45:26.256540Z"
    },
    "papermill": {
     "duration": 1.719758,
     "end_time": "2022-08-10T11:45:26.261495",
     "exception": false,
     "start_time": "2022-08-10T11:45:24.541737",
     "status": "completed"
    },
    "tags": []
   },
   "outputs": [
    {
     "name": "stdout",
     "output_type": "stream",
     "text": [
      "Final Model trained on full data\n",
      "------\n",
      "Accuracy on testing data: 0.8606\n",
      "F-score on testing data: 0.7316\n",
      "\n",
      "Final Model trained on reduced data\n",
      "------\n",
      "Accuracy on testing data: 0.8325\n",
      "F-score on testing data: 0.6752\n"
     ]
    }
   ],
   "source": [
    "# Import functionality for cloning a model\n",
    "from sklearn.base import clone\n",
    "\n",
    "# Reduce the feature space\n",
    "X_train_reduced = X_train[X_train.columns.values[(np.argsort(importances)[::-1])[:5]]]\n",
    "X_test_reduced = X_test[X_test.columns.values[(np.argsort(importances)[::-1])[:5]]]\n",
    "\n",
    "# Train on the \"best\" model found from grid search earlier\n",
    "clf = (clone(best_clf)).fit(X_train_reduced, y_train)\n",
    "\n",
    "# Make new predictions\n",
    "reduced_predictions = clf.predict(X_test_reduced)\n",
    "\n",
    "# Report scores from the final model using both versions of data\n",
    "print(\"Final Model trained on full data\\n------\")\n",
    "print(\"Accuracy on testing data: {:.4f}\".format(accuracy_score(y_test, best_predictions)))\n",
    "print(\"F-score on testing data: {:.4f}\".format(fbeta_score(y_test, best_predictions, beta = 0.5)))\n",
    "print(\"\\nFinal Model trained on reduced data\\n------\")\n",
    "print(\"Accuracy on testing data: {:.4f}\".format(accuracy_score(y_test, reduced_predictions)))\n",
    "print(\"F-score on testing data: {:.4f}\".format(fbeta_score(y_test, reduced_predictions, beta = 0.5)))"
   ]
  },
  {
   "cell_type": "markdown",
   "id": "5714bf2d",
   "metadata": {
    "papermill": {
     "duration": 0.017127,
     "end_time": "2022-08-10T11:45:26.297048",
     "exception": false,
     "start_time": "2022-08-10T11:45:26.279921",
     "status": "completed"
    },
    "tags": []
   },
   "source": [
    "### Effects of Feature Selection"
   ]
  },
  {
   "cell_type": "markdown",
   "id": "40953eed",
   "metadata": {
    "papermill": {
     "duration": 0.016955,
     "end_time": "2022-08-10T11:45:26.331135",
     "exception": false,
     "start_time": "2022-08-10T11:45:26.314180",
     "status": "completed"
    },
    "tags": []
   },
   "source": [
    "- the reduced data model face decrease on F-score (73.16% decreased to 67.52%) \n",
    "- I think the effect on f-score is high and if we will consider the training time as metric we will go to another models (logistic Regression)"
   ]
  },
  {
   "cell_type": "code",
   "execution_count": null,
   "id": "f3178c1b",
   "metadata": {
    "papermill": {
     "duration": 0.017008,
     "end_time": "2022-08-10T11:45:26.365392",
     "exception": false,
     "start_time": "2022-08-10T11:45:26.348384",
     "status": "completed"
    },
    "tags": []
   },
   "outputs": [],
   "source": []
  },
  {
   "cell_type": "code",
   "execution_count": null,
   "id": "6e6feab9",
   "metadata": {
    "papermill": {
     "duration": 0.016396,
     "end_time": "2022-08-10T11:45:26.398857",
     "exception": false,
     "start_time": "2022-08-10T11:45:26.382461",
     "status": "completed"
    },
    "tags": []
   },
   "outputs": [],
   "source": []
  }
 ],
 "metadata": {
  "kernelspec": {
   "display_name": "Python 3",
   "language": "python",
   "name": "python3"
  },
  "language_info": {
   "codemirror_mode": {
    "name": "ipython",
    "version": 3
   },
   "file_extension": ".py",
   "mimetype": "text/x-python",
   "name": "python",
   "nbconvert_exporter": "python",
   "pygments_lexer": "ipython3",
   "version": "3.7.12"
  },
  "papermill": {
   "default_parameters": {},
   "duration": 320.345995,
   "end_time": "2022-08-10T11:45:27.237579",
   "environment_variables": {},
   "exception": null,
   "input_path": "__notebook__.ipynb",
   "output_path": "__notebook__.ipynb",
   "parameters": {},
   "start_time": "2022-08-10T11:40:06.891584",
   "version": "2.3.4"
  }
 },
 "nbformat": 4,
 "nbformat_minor": 5
}
